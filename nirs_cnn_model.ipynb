{
 "cells": [
  {
   "cell_type": "markdown",
   "metadata": {
    "id": "7cFTU1lUl0dh"
   },
   "source": [
    "## Importing working packages"
   ]
  },
  {
   "cell_type": "code",
   "execution_count": 255,
   "metadata": {
    "id": "ad1Yi_B8l5bd"
   },
   "outputs": [],
   "source": [
    "import pandas as pd\n",
    "import time\n",
    "from datetime import datetime\n",
    "from datetime import datetime\n",
    "from collections import Counter\n",
    "import os\n",
    "import numpy as np\n",
    "from sklearn.model_selection import train_test_split, KFold, RepeatedKFold\n",
    "from sklearn.preprocessing import MinMaxScaler,StandardScaler\n",
    "import tensorflow as tf\n",
    "from tensorflow import keras\n",
    "from tensorflow.keras.callbacks import TensorBoard, EarlyStopping, ModelCheckpoint, ReduceLROnPlateau\n",
    "from tensorflow.keras.models import Sequential, Model\n",
    "from tensorflow.keras.layers import Dense, Dropout, MaxPooling1D, Conv1D, Flatten, Concatenate, concatenate, Input\n",
    "from tensorflow.keras.layers import BatchNormalization, Bidirectional, Input, LocallyConnected1D, Activation\n",
    "from tensorflow.keras.layers import LSTM, GRU, TimeDistributed, GaussianDropout, AlphaDropout, GaussianNoise\n",
    "from tensorflow.keras.layers import SpatialDropout1D\n",
    "from tensorflow.keras.models import model_from_json\n",
    "from tensorflow.keras.optimizers import SGD, RMSprop, Adam, Adamax, Adadelta\n",
    "from tensorflow.keras.utils import plot_model\n",
    "\n",
    "#import tensorflow_docs as tfdocs\n",
    "#import tensorflow_docs.plots\n",
    "#import tensorflow_docs.modeling\n",
    "\n",
    "from hyperopt import Trials, STATUS_OK, tpe\n",
    "from hyperas import optim\n",
    "from hyperas.distributions import choice, uniform\n",
    "\n",
    "import matplotlib.pyplot as plt\n",
    "import math\n",
    "\n",
    "from sklearn.metrics import r2_score, mean_squared_error\n",
    "from scipy.stats import pearsonr\n",
    "import scipy\n",
    "\n",
    "\n",
    "\n",
    "import warnings\n",
    "warnings.filterwarnings(\"ignore\")\n",
    "warnings.warn(\"deprecated\", DeprecationWarning)\n",
    "import sys"
   ]
  },
  {
   "cell_type": "markdown",
   "metadata": {
    "id": "yeLYp_-Ek7w_"
   },
   "source": [
    "# Data preprocessing"
   ]
  },
  {
   "cell_type": "markdown",
   "metadata": {
    "id": "b6C0QLes5pLJ"
   },
   "source": [
    "## Preprocessing methods"
   ]
  },
  {
   "cell_type": "code",
   "execution_count": 1141,
   "metadata": {
    "id": "lLcodc6RyD65"
   },
   "outputs": [],
   "source": [
    "def msc(input_data, reference=None):\n",
    "    ''' Perform Multiplicative scatter correction'''\n",
    "    input_data = input_data.copy()\n",
    "     # mean centre correction\n",
    "    for i in range(input_data.shape[0]):\n",
    "        input_data[i,:] -= input_data[i,:].mean()\n",
    " \n",
    "    # Get the reference spectrum. If not given, estimate it from the mean    \n",
    "    if reference is None:    \n",
    "        ref = np.mean(input_data, axis=0)\n",
    "    else:\n",
    "        ref = reference\n",
    " \n",
    "    # Define a new array and populate it with the corrected data    \n",
    "    data_msc = np.zeros_like(input_data)\n",
    "    for i in range(input_data.shape[0]):\n",
    "        # Run regression\n",
    "        fit = np.polyfit(ref, input_data[i,:], 1, full=True)\n",
    "        # Apply correction\n",
    "        data_msc[i,:] = (input_data[i,:] - fit[0][1]) / fit[0][0] \n",
    " \n",
    "    return data_msc"
   ]
  },
  {
   "cell_type": "code",
   "execution_count": 443,
   "metadata": {},
   "outputs": [],
   "source": [
    "def snv(input_data):\n",
    "    \"\"\"\n",
    "    Performs a Standard Normal Variate (SNV) correction.\n",
    "    \n",
    "    \"\"\"\n",
    "    # Define a new array and populate it with the corrected data  \n",
    "    output_data = np.zeros_like(input_data)\n",
    "    for i in range(input_data.shape[0]):\n",
    " \n",
    "        # Apply correction\n",
    "        output_data[i,:] = (input_data[i,:] - np.mean(input_data[i,:])) / np.std(input_data[i,:])\n",
    " \n",
    "    return output_data"
   ]
  },
  {
   "cell_type": "code",
   "execution_count": 626,
   "metadata": {},
   "outputs": [],
   "source": [
    "def detrend(spectra, bp=0):\n",
    "    \"\"\" Perform spectral detrending to remove linear trend from data.\n",
    "    Args:\n",
    "        spectra <numpy.ndarray>: NIRS data matrix.\n",
    "        bp <list>: A sequence of break points. If given, an individual linear fit is performed for each part of data\n",
    "        between two break points. Break points are specified as indices into data.\n",
    "    Returns:\n",
    "        spectra <numpy.ndarray>: Detrended NIR spectra\n",
    "    \"\"\"\n",
    "    return scipy.signal.detrend(spectra,axis=0, bp=bp)"
   ]
  },
  {
   "cell_type": "code",
   "execution_count": 139,
   "metadata": {
    "id": "JRv8Q0mV5x2M"
   },
   "outputs": [],
   "source": [
    "import scipy.signal\n",
    "import scipy.io as io\n",
    "import scipy.ndimage as nd\n",
    "import numpy as np\n",
    "from sklearn.preprocessing import normalize, scale\n"
   ]
  },
  {
   "cell_type": "code",
   "execution_count": 1421,
   "metadata": {},
   "outputs": [],
   "source": [
    "def smooth(spectra, filter_win=11, window_type='flat', mode='reflect'):\n",
    "    \"\"\" Smooths the spectra using convolution.\n",
    "    Args:\n",
    "        spectra <numpy.ndarray>: NIRS data matrix.\n",
    "        filter_win <float>: length of the filter window in samples.\n",
    "        window_type <str>: filtering window to use for convolution (see scipy.signal.windows)\n",
    "        mode <str>: convolution mode\n",
    "    Returns:\n",
    "        spectra <numpy.ndarray>: Smoothed NIR spectra.\n",
    "    \"\"\"\n",
    "\n",
    "    if window_type == 'flat':\n",
    "        window = np.ones(filter_win)\n",
    "    else:\n",
    "        window = scipy.signal.windows.get_window(window_type, filter_win)\n",
    "    window = window / np.sum(window)\n",
    "\n",
    "    for row in range(spectra.shape[0]):\n",
    "        spectra[row,:] = nd.convolve(spectra[row,:], window, mode=mode)\n",
    "\n",
    "    return spectra"
   ]
  },
  {
   "cell_type": "code",
   "execution_count": 1547,
   "metadata": {
    "id": "FdxPJjb4Bruq"
   },
   "outputs": [],
   "source": [
    "def savgol(spectra, filter_win=15, poly_order=2, deriv_order=0, delta=1.0):\n",
    "    \"\"\" Perform Savitzky–Golay filtering on the data (also calculates derivatives). This function is a wrapper for\n",
    "    scipy.signal.savgol_filter.\n",
    "\n",
    "    Args:\n",
    "        spectra <numpy.ndarray>: NIRS data matrix.\n",
    "        filter_win <int>: Size of the filter window in samples (default 11).\n",
    "        poly_order <int>: Order of the polynomial estimation (default 3).\n",
    "        deriv_order <int>: Order of the derivation (default 0).\n",
    "\n",
    "    Returns:\n",
    "        spectra <numpy.ndarray>: NIRS data smoothed with Savitzky-Golay filtering\n",
    "    \"\"\"\n",
    "    return scipy.signal.savgol_filter(spectra, filter_win, poly_order, deriv_order, delta=delta, axis=1)"
   ]
  },
  {
   "cell_type": "code",
   "execution_count": 53,
   "metadata": {
    "id": "SODFizZC5-nQ"
   },
   "outputs": [],
   "source": [
    "def derivate(spectra, order=1, delta=1):\n",
    "    \"\"\" Computes Nth order derivates with the desired spacing using numpy.gradient.\n",
    "    Args:\n",
    "        spectra <numpy.ndarray>: NIRS data matrix.\n",
    "        order <float>: Order of the derivation.\n",
    "        delta <int>: Delta of the derivate (in samples).\n",
    "\n",
    "    Returns:\n",
    "        spectra <numpy.ndarray>: Derivated NIR spectra.\n",
    "    \"\"\"\n",
    "    for n in range(order):\n",
    "        spectra = np.gradient(spectra, delta, axis=1)\n",
    "    return spectra"
   ]
  },
  {
   "cell_type": "code",
   "execution_count": 1560,
   "metadata": {
    "id": "1hxUMQyBFJaS"
   },
   "outputs": [],
   "source": [
    "def preprocess(x):\n",
    "    \n",
    "  #Then compute first derivative\n",
    "  #x = derivate(x,order=2)\n",
    "  #Apply a Savitzky-Golay filter\n",
    "  #x = savgol(x)\n",
    "    \n",
    "  # Smooth data\n",
    "  #x = smooth(x)\n",
    "\n",
    "  #Then compute first derivative\n",
    "  x = derivate(x)\n",
    "    \n",
    "  #Perform SNV\n",
    "  #x = snv(x)\n",
    "    \n",
    "  #Detrend the signal\n",
    "  #x = detrend(x)\n",
    "  \n",
    "  return x"
   ]
  },
  {
   "cell_type": "code",
   "execution_count": 1549,
   "metadata": {
    "id": "PIQKWyy-k8RA"
   },
   "outputs": [],
   "source": [
    "from scipy.stats import pearsonr"
   ]
  },
  {
   "cell_type": "code",
   "execution_count": 56,
   "metadata": {
    "id": "NzmZFPq94UdW"
   },
   "outputs": [],
   "source": [
    "def plot_spectra(wl,spectra):\n",
    "    plt.figure(figsize=(8,9))\n",
    "    with plt.style.context(('ggplot')):\n",
    "        plt.plot(wl, spectra)\n",
    "        plt.title('Original data')"
   ]
  },
  {
   "cell_type": "code",
   "execution_count": 57,
   "metadata": {
    "id": "kwi6O-GvpZWn"
   },
   "outputs": [],
   "source": [
    "def weight_predictors(x,y):\n",
    "  wls = np.array([int(l) for l in x.columns])\n",
    "\n",
    "  data = pd.DataFrame(x.to_numpy(),columns=wls)\n",
    "  important_factors = []\n",
    "\n",
    "  M = len(wls)\n",
    "\n",
    "  corr_xy = data.apply(lambda x: x.corr(y),axis=0)\n",
    "  corr_xx = data.corr()\n",
    "\n",
    "  for wl in wls:\n",
    "    a = corr_xy[wl]\n",
    "    b = corr_xx[wl].sum()\n",
    "\n",
    "    result = M * (a / b)\n",
    "\n",
    "    important_factors.append(result)\n",
    "  \n",
    "  weighted_data = data.to_numpy()\n",
    "  # for i in range(data.shape[1]):\n",
    "  #   weighted_data[:,i] *= important_factors[i]\n",
    "  weight_data =  np.diag(np.array(important_factors)) * data.to_numpy()\n",
    "  weighted_x = weighted_data\n",
    "\n",
    "  return weighted_x\n"
   ]
  },
  {
   "cell_type": "code",
   "execution_count": 1576,
   "metadata": {
    "id": "mPbSFDnMk0Eu"
   },
   "outputs": [],
   "source": [
    "\n",
    "def load_data(fname=None, target=None, sensor=None):\n",
    "  if sensor==\"hone_ag\":\n",
    "    d = pd.read_csv(fname, sep=\";\")\n",
    "    \n",
    "  if sensor==\"foss\":\n",
    "    d = pd.read_csv(fname, sep=\";\")\n",
    "  \n",
    "\n",
    "  # Convert Protein to float\n",
    "  #d[target] = pd.to_numeric(d[target], errors='coerce', downcast='float')\n",
    "\n",
    "  #Gather response and predictors in dataframe\n",
    "  #d_corr = pd.concat([d[\"Species\"].to_frame(), d[target].to_frame(), d.loc[:,'1350.155463':]], axis = 1)\n",
    "\n",
    "  # Delete na\n",
    "  #d_corr = d_corr.dropna(axis=0)\n",
    "\n",
    "  train = d[d['Set']=='Training']\n",
    "  test = d[d['Set']=='Validation']\n",
    "  #train, test = train_test_split(d, test_size=0.2, random_state=42, shuffle=True)\n",
    "  #export shuffled data\n",
    "  #train['Set']='Training'\n",
    "  #test['Set']='Validation'\n",
    "  #new=pd.concat([train,test],axis=0)\n",
    "  #new.to_excel('./data/shuffled_multicereal_evt5_2021.xlsx',index=False)\n",
    "\n",
    "  #Build predictors\n",
    "  if sensor==\"hone_ag\":\n",
    "      x_train = train.loc[:,'1350.1554633964':] \n",
    "      #xcolnames = x_train.columns\n",
    "      x_test = test.loc[:,'1350.1554633964':]\n",
    "    \n",
    "  elif sensor==\"foss\":\n",
    "      x_train = train.loc[:,'400':] \n",
    "      #xcolnames = x_train.columns\n",
    "      x_test = test.loc[:,'400':]\n",
    "\n",
    "  #Extract targets\n",
    "  y_train = train[target]\n",
    "  y_test = test[target]\n",
    "\n",
    "  #Create weighted predictors based on feature importance\n",
    "  # x_train = weight_predictors(x_train,y_train)\n",
    "  # x_test = weight_predictors(x_test,y_test)\n",
    "\n",
    "  #Extract sample metadata from test set\n",
    "  if sensor==\"hone_ag\":\n",
    "        train_set_metadata = train[[\"Record Name\"]]\n",
    "        test_set_metadata = test[[\"Record Name\"]]\n",
    "  else:\n",
    "        train_set_metadata = train[[\"Species2\",\"Record Name\"]]\n",
    "        test_set_metadata = test[[\"Species2\",\"Record Name\"]]\n",
    "    \n",
    "\n",
    "  #Apply preprocessing operations\n",
    "  x_train = preprocess(x_train)\n",
    "  x_test = preprocess(x_test)\n",
    "\n",
    "  #Convert to numpy arrays\n",
    "  y_train = y_train.to_numpy()\n",
    "  y_test = y_test.to_numpy()\n",
    "\n",
    "  #Minmax Normalization of x and y\n",
    "  xscaler = MinMaxScaler(feature_range=(0.1,0.9))\n",
    "  x_train = xscaler.fit_transform(x_train)\n",
    "  x_test = xscaler.transform(x_test)\n",
    "\n",
    "\n",
    "  yscaler = MinMaxScaler(feature_range=(0.1,0.9))\n",
    "  y_train = yscaler.fit_transform(y_train.reshape(-1,1))\n",
    "  y_test = yscaler.transform(y_test.reshape(-1,1))\n",
    " \n",
    "\n",
    "\n",
    "  ##Reshaping arrays\n",
    "  x_train,x_test = np.expand_dims(x_train,axis=2),np.expand_dims(x_test,axis=2)\n",
    "  #y_train,y_test = y_train.reshape(-1,1),y_test.reshape(-1,1)\n",
    "\n",
    "      \n",
    "  return x_train, y_train, x_test, y_test,yscaler, train_set_metadata, test_set_metadata"
   ]
  },
  {
   "cell_type": "markdown",
   "metadata": {
    "id": "H8_to4RvBP5o"
   },
   "source": [
    "## Definition of deep learning models"
   ]
  },
  {
   "cell_type": "code",
   "execution_count": 1343,
   "metadata": {
    "id": "WXUfvnnPPCIv"
   },
   "outputs": [],
   "source": [
    "from keras.regularizers import l1,l2"
   ]
  },
  {
   "cell_type": "code",
   "execution_count": 1344,
   "metadata": {
    "id": "4HoHm35HHIzJ"
   },
   "outputs": [],
   "source": [
    "#Define a deep belief network for feature extraction\n",
    "#from dbn.models import UnsupervisedDBN"
   ]
  },
  {
   "cell_type": "code",
   "execution_count": 1345,
   "metadata": {
    "id": "-TMhhKVWHl6p"
   },
   "outputs": [],
   "source": [
    "def dbn_feature_extraction(x_train,y_train,x_test):\n",
    "  \"\"\"\n",
    "    Reduce dimensionality using deep belief net\n",
    "  \"\"\"\n",
    "  dbn_model = UnsupervisedDBN(hidden_layers_structure=[100,100],\n",
    "                      batch_size=120,\n",
    "                      learning_rate_rbm=0.01,\n",
    "                      n_epochs_rbm=100,\n",
    "                      activation_function='sigmoid')\n",
    "  \n",
    "  x_train = dbn_model.fit_transform(x_train,y_train)\n",
    "  x_test = dbn_model.transform(x_test)\n",
    "\n",
    "  return x_train,x_test"
   ]
  },
  {
   "cell_type": "code",
   "execution_count": 1346,
   "metadata": {
    "id": "R4_bAadtOvE2"
   },
   "outputs": [],
   "source": [
    "\n",
    "def denseModel(feature_count, x_dim):\n",
    "    model = Sequential()\n",
    "    model.add(Dropout(0.02, input_shape=(feature_count, x_dim)))\n",
    "    model.add(GaussianDropout(0.3, input_shape=(feature_count, x_dim)))\n",
    "    model.add(Dense(32))\n",
    "    model.add(Dense(16))\n",
    "    model.add(Flatten())\n",
    "    return model\n",
    "\n",
    "\n",
    "inputs_layers = []\n",
    "encoded_models = []\n",
    "input_data = []\n",
    "\n",
    "def convModel(feature_count, x_dim):\n",
    "    model = Sequential()\n",
    "    model.add(Dropout(0.002, input_shape=(feature_count, x_dim)))\n",
    "    # model.add(GaussianDropout(0.2))\n",
    "    # model.add(GaussianNoise(0.2))\n",
    "    model.add(Conv1D (filters=32, kernel_size=15, strides=1, activation='relu'))\n",
    "    model.add(BatchNormalization())\n",
    "    model.add(SpatialDropout1D(0.02))\n",
    "    \n",
    "    model.add(Conv1D (filters=64, kernel_size=15, strides=1, activation='relu'))\n",
    "    model.add(BatchNormalization())\n",
    "    model.add(SpatialDropout1D(0.02))\n",
    "    \n",
    "    model.add(Conv1D (filters=128, kernel_size=15, strides=1, activation='relu'))\n",
    "    model.add(SpatialDropout1D(0.02))\n",
    "    model.add(BatchNormalization())\n",
    "    \n",
    "    model.add(Conv1D (filters=256, kernel_size=15, strides=1, activation='relu'))\n",
    "    model.add(SpatialDropout1D(0.2))\n",
    "    model.add(BatchNormalization())\n",
    "\n",
    "    model.add(Flatten())\n",
    "    model.add(Dense(100, kernel_regularizer=l1(1e-7), bias_regularizer=l1(1e-7), activation='relu'))\n",
    "\n",
    "\n",
    "    model.add(Dense(1,activation='linear'))\n",
    "    return model\n",
    "\n",
    "\n",
    "def convModel2(feature_count,x_dim):\n",
    "    model = Sequential()\n",
    "    model.add(Dropout(0.002, input_shape=(feature_count, x_dim)))\n",
    "    model.add(Conv1D(filters=24, kernel_size=15, use_bias=False, strides=2, kernel_initializer=\"he_normal\"))\n",
    "    model.add(BatchNormalization())\n",
    "    model.add(Activation(\"relu\"))\n",
    "    model.add(MaxPooling1D(pool_size=2,strides=1))\n",
    "    model.add(SpatialDropout1D(0.02))\n",
    "\n",
    "    model.add(Conv1D(filters=48,kernel_size=15 , use_bias=False, strides=2, kernel_initializer=\"he_normal\"))\n",
    "    model.add(BatchNormalization())\n",
    "    model.add(Activation(\"relu\"))\n",
    "    model.add(MaxPooling1D(pool_size=2, strides=1))\n",
    "    model.add(SpatialDropout1D(0.02))\n",
    "\n",
    "    model.add(Conv1D(filters=96,kernel_size=15, use_bias=False, strides=2, kernel_initializer=\"he_normal\"))\n",
    "    model.add(BatchNormalization())\n",
    "    model.add(Activation(\"relu\"))\n",
    "    model.add(MaxPooling1D(pool_size=2,strides=1))\n",
    "    model.add(SpatialDropout1D(0.02))\n",
    "\n",
    "\n",
    "    model.add(Flatten())\n",
    "    model.add(Dense(512, kernel_regularizer=l1(1e-7), bias_regularizer=l1(1e-7)))\n",
    "    model.add(BatchNormalization())\n",
    "    model.add(Activation(\"relu\"))\n",
    "\n",
    "    \n",
    "    model.add(Dense(128, kernel_regularizer=l1(1e-7), bias_regularizer=l1(1e-7)))\n",
    "    model.add(BatchNormalization())\n",
    "    model.add(Activation(\"relu\"))\n",
    "    model.add(Dropout(0.02))\n",
    "\n",
    "    model.add(Dense(1,activation='sigmoid'))\n",
    "    return model\n",
    "\n",
    "\n",
    "\n"
   ]
  },
  {
   "cell_type": "code",
   "execution_count": 1347,
   "metadata": {},
   "outputs": [],
   "source": [
    "def convModel3(feature_count,x_dim):\n",
    "    model = Sequential()\n",
    "    model.add(Dropout(0.002, input_shape=(feature_count, x_dim)))\n",
    "    model.add(Conv1D(filters=16, kernel_size=5, use_bias=False, strides=2, kernel_initializer=\"he_normal\"))\n",
    "    model.add(BatchNormalization())\n",
    "    model.add(Activation(\"relu\"))\n",
    "    model.add(MaxPooling1D(pool_size=2,strides=1))\n",
    "    model.add(SpatialDropout1D(0.02))\n",
    "\n",
    "    model.add(Conv1D(filters=36,kernel_size=15 , use_bias=False, strides=2, kernel_initializer=\"he_normal\"))\n",
    "    model.add(BatchNormalization())\n",
    "    model.add(Activation(\"relu\"))\n",
    "    model.add(MaxPooling1D(pool_size=2, strides=1))\n",
    "    model.add(SpatialDropout1D(0.02))\n",
    "\n",
    "    model.add(Conv1D(filters=56,kernel_size=20, use_bias=False, strides=2, kernel_initializer=\"he_normal\"))\n",
    "    model.add(BatchNormalization())\n",
    "    model.add(Activation(\"relu\"))\n",
    "    model.add(MaxPooling1D(pool_size=2,strides=1))\n",
    "    model.add(SpatialDropout1D(0.02))\n",
    "\n",
    "\n",
    "    model.add(Flatten())\n",
    "    model.add(Dense(512, kernel_regularizer=l1(1e-7), bias_regularizer=l1(1e-8)))\n",
    "    model.add(BatchNormalization())\n",
    "    model.add(Activation(\"relu\"))\n",
    "\n",
    "\n",
    "    \n",
    "    model.add(Dense(128, kernel_regularizer=l1(1e-7), bias_regularizer=l1(1e-8)))\n",
    "    model.add(BatchNormalization())\n",
    "    model.add(Activation(\"relu\"))\n",
    "\n",
    "    model.add(Dense(1,activation='sigmoid'))\n",
    "    return model"
   ]
  },
  {
   "cell_type": "code",
   "execution_count": 1348,
   "metadata": {},
   "outputs": [],
   "source": [
    "def convModel4(feature_count,x_dim):\n",
    "    model = Sequential()\n",
    "    model.add(Conv1D(filters=24, input_shape=(feature_count, x_dim), kernel_size=20, use_bias=False, strides=2, kernel_initializer=\"he_normal\"))\n",
    "    model.add(BatchNormalization())\n",
    "    model.add(Activation(\"relu\"))\n",
    "    model.add(MaxPooling1D(pool_size=2,strides=1))\n",
    "\n",
    "    model.add(Conv1D(filters=48,kernel_size=20 , use_bias=False, strides=2, kernel_initializer=\"he_normal\"))\n",
    "    model.add(BatchNormalization())\n",
    "    model.add(Activation(\"relu\"))\n",
    "    model.add(MaxPooling1D(pool_size=5, strides=1))\n",
    "\n",
    "    model.add(Conv1D(filters=96,kernel_size=20, use_bias=False, strides=2, kernel_initializer=\"he_normal\"))\n",
    "    model.add(BatchNormalization())\n",
    "    model.add(Activation(\"relu\"))\n",
    "    model.add(MaxPooling1D(pool_size=5,strides=1))\n",
    "    \n",
    "    model.add(Conv1D(filters=192,kernel_size=20, use_bias=False, strides=2, kernel_initializer=\"he_normal\"))\n",
    "    model.add(BatchNormalization())\n",
    "    model.add(Activation(\"relu\"))\n",
    "    model.add(MaxPooling1D(pool_size=5,strides=1))\n",
    "    model.add(Dropout(0.4))\n",
    "\n",
    "\n",
    "    model.add(Flatten())\n",
    "    model.add(Dense(100, kernel_regularizer=l1(1e-7), bias_regularizer=l1(1e-7)))\n",
    "    model.add(BatchNormalization())\n",
    "    model.add(Activation(\"relu\"))\n",
    "    model.add(Dropout(0.2))\n",
    "\n",
    "    model.add(Dense(1,activation='sigmoid'))\n",
    "    return model"
   ]
  },
  {
   "cell_type": "code",
   "execution_count": 1349,
   "metadata": {},
   "outputs": [],
   "source": [
    "def convModel5(feature_count,x_dim):\n",
    "    model = Sequential()\n",
    "    model.add(Conv1D(filters=8, input_shape=(feature_count, x_dim), kernel_size=10, use_bias=False, strides=5, kernel_initializer=\"he_normal\"))\n",
    "    model.add(BatchNormalization())\n",
    "    model.add(Activation(\"relu\"))\n",
    "    model.add(MaxPooling1D(pool_size=3,strides=2))\n",
    "\n",
    "    model.add(Conv1D(filters=32,kernel_size=4 , use_bias=False, strides=2, kernel_initializer=\"he_normal\"))\n",
    "    model.add(BatchNormalization())\n",
    "    model.add(Activation(\"relu\"))\n",
    "    model.add(MaxPooling1D(pool_size=3, strides=2))\n",
    "\n",
    "    model.add(Conv1D(filters=64,kernel_size=5, use_bias=False, strides=2, kernel_initializer=\"he_normal\"))\n",
    "    model.add(BatchNormalization())\n",
    "    model.add(Activation(\"relu\"))\n",
    "    model.add(MaxPooling1D(pool_size=3,strides=2))\n",
    "    \n",
    "\n",
    "\n",
    "    model.add(Flatten())\n",
    "    model.add(Dense(1,activation='sigmoid'))\n",
    "    return model"
   ]
  },
  {
   "cell_type": "code",
   "execution_count": 1350,
   "metadata": {
    "id": "Sr5IgKyZBt2s"
   },
   "outputs": [],
   "source": [
    "def add_model(generator, data, feature_count, dim):\n",
    "    model = generator(feature_count, dim)\n",
    "    input_layer = Input(shape = (feature_count, dim))\n",
    "    encoded_model = model(input_layer)\n",
    "    inputs_layers.append(input_layer)\n",
    "    encoded_models.append(encoded_model)\n",
    "    input_data.append(data)"
   ]
  },
  {
   "cell_type": "markdown",
   "metadata": {
    "id": "Gz2XV7DeJ10-"
   },
   "source": [
    "## Prepare data, models and train "
   ]
  },
  {
   "cell_type": "code",
   "execution_count": 1577,
   "metadata": {},
   "outputs": [],
   "source": [
    "fn = './data/foss_reference_data.csv'"
   ]
  },
  {
   "cell_type": "code",
   "execution_count": 1578,
   "metadata": {},
   "outputs": [],
   "source": [
    "target = \"Protein\"\n",
    "sensor = None\n",
    "if \"foss\" in os.path.basename(fn):\n",
    "    sensor=\"foss\"\n",
    "if \"evt5\" in os.path.basename(fn):\n",
    "    sensor=\"hone_ag\""
   ]
  },
  {
   "cell_type": "code",
   "execution_count": 1579,
   "metadata": {},
   "outputs": [],
   "source": [
    "X_train, y_train, X_val, y_val,yscaler, train_metadata, test_meta = load_data(fname=fn, target =target, sensor=sensor)"
   ]
  },
  {
   "cell_type": "code",
   "execution_count": 1580,
   "metadata": {},
   "outputs": [],
   "source": [
    "#Sqve data loading\n",
    "x_tr, y_tr, x_v, y_v, ysc, tr_meta, val_meta = X_train, y_train, X_val, y_val,yscaler, train_metadata, test_meta"
   ]
  },
  {
   "cell_type": "code",
   "execution_count": 1586,
   "metadata": {},
   "outputs": [],
   "source": [
    "X_train, y_train, X_val, y_val,yscaler, train_metadata, test_meta = x_tr, y_tr, x_v, y_v, ysc, tr_meta, val_meta"
   ]
  },
  {
   "cell_type": "code",
   "execution_count": 1587,
   "metadata": {},
   "outputs": [
    {
     "name": "stdout",
     "output_type": "stream",
     "text": [
      "(262, 1050, 1) (66, 1050, 1) (262, 2)\n"
     ]
    }
   ],
   "source": [
    "print(X_train.shape, X_val.shape, train_metadata.shape)"
   ]
  },
  {
   "cell_type": "code",
   "execution_count": 1588,
   "metadata": {},
   "outputs": [
    {
     "data": {
      "text/plain": [
       "0"
      ]
     },
     "execution_count": 1588,
     "metadata": {},
     "output_type": "execute_result"
    }
   ],
   "source": [
    "np.isnan(X_train).sum()"
   ]
  },
  {
   "cell_type": "code",
   "execution_count": 1589,
   "metadata": {
    "id": "JPjxhDASQng6"
   },
   "outputs": [
    {
     "name": "stdout",
     "output_type": "stream",
     "text": [
      "-Prepare models...\n",
      "\n",
      "Number of devices: 1\n",
      "-Number of parameters:  1273561\n",
      "Model compilation\n",
      "\n",
      "Start model training...\n"
     ]
    }
   ],
   "source": [
    "#X_train, y_train, X_val, y_val, xscaler, yscaler, meta_train, meta_test = data()\n",
    "\n",
    "#Clean our lists\n",
    "# inputs_layers.clear()\n",
    "# encoded_models.clear()\n",
    "# input_data.clear()\n",
    "\n",
    "#print('-Dimensionality reduction using autoencoder')\n",
    "#X_train, X_val = dbn_feature_extraction(X_train,y_train,X_val)\n",
    "\n",
    "#Reshaping arrays\n",
    "#X_train,X_val = np.expand_dims(X_train,axis=2),np.expand_dims(X_val,axis=2)\n",
    "\n",
    "#Retrieve feature number and dimension\n",
    "NIRS_feature_count = X_train.shape[1]\n",
    "NIRS_dim = X_train.shape[2]\n",
    "NIRS = X_train.copy()\n",
    "Ydim = 1\n",
    "\n",
    "VALIDATION_ACCURACY = []\n",
    "VALIDAITON_LOSS = []\n",
    "\n",
    "# Split for cross validation\n",
    "kfold = RepeatedKFold(n_splits=2, n_repeats=1, random_state=1234)\n",
    "\n",
    "reduce_lr_loss = ReduceLROnPlateau(monitor='val_loss', factor=0.5, patience=30, verbose=0, min_delta=1e-4, mode='min')\n",
    "earlyStopping = EarlyStopping(monitor='val_loss', patience=100, verbose=0, mode='min')\n",
    "\n",
    "# Prepare models\n",
    "print('-Prepare models...\\n')\n",
    "# add_model(convModel, NIRS, NIRS_feature_count, NIRS_dim)\n",
    "# add_model(localModel2, NIRS, NIRS_feature_count, NIRS_dim)\n",
    "# #add_model(localModel, NIRS, NIRS_feature_count, NIRS_dim)\n",
    "# print('-Concatenating models...\\n')\n",
    "# merged = concatenate(encoded_models)\n",
    "# output = Dense(16, activation='relu')(merged)\n",
    "# output = Dense(Ydim, activation='sigmoid')(output)\n",
    "# training_model = Model(inputs=inputs_layers, outputs=[output])\n",
    "\n",
    "from tensorflow.keras.utils import plot_model\n",
    "# plot_model(training_model,show_shapes=True ,to_file=os.path.join('/content/gdrive/My Drive/Results','DL_model_architecture.png'))\n",
    "\n",
    "\n",
    "# Create a MirroredStrategy.\n",
    "strategy = tf.distribute.MirroredStrategy([\"GPU:0\"])\n",
    "print('Number of devices: {}'.format(strategy.num_replicas_in_sync))\n",
    "\n",
    "# Open a strategy scope.\n",
    "with strategy.scope():\n",
    "    training_model = convModel4(NIRS_feature_count, NIRS_dim)\n",
    "    print(\"-Number of parameters: \", training_model.count_params())\n",
    "    #Save model architecture\n",
    "    plot_model(training_model, to_file='./results/model_architecture.png', show_shapes=True, show_layer_names=True)\n",
    "    #Compile model\n",
    "    print('Model compilation\\n')\n",
    "    opt = keras.optimizers.Adam(lr=3e-3)\n",
    "    training_model.compile(loss='mean_squared_error', metrics=['mse'], optimizer=opt)\n",
    "\n",
    "\n",
    "\n",
    "print('Start model training...')\n",
    "history = training_model.fit(X_train, y_train, \n",
    "                    epochs=5000, \n",
    "                    batch_size=128, \n",
    "                    validation_data=(X_val,y_val), \n",
    "                    verbose=0, \n",
    "                    callbacks=[reduce_lr_loss,earlyStopping])\n",
    "\n"
   ]
  },
  {
   "cell_type": "code",
   "execution_count": 1590,
   "metadata": {},
   "outputs": [
    {
     "name": "stdout",
     "output_type": "stream",
     "text": [
      "Training ended\n",
      "Saving model..\n",
      "Saving ended\n",
      "Making predictions\n",
      "\n",
      "\n",
      "\n",
      "==============================\n",
      "\n",
      "\n",
      "\n",
      " Evaluation metrics\n",
      "\n",
      "\n",
      "R2 train:  0.6885825288668119\n",
      "RMSE train:  1.8111778224393649\n",
      "RPD train:  1.7919609932574943\n",
      "R2 val:  0.5881962144765968\n",
      "RMSE val:  2.1428429815964813\n",
      "RPD val:  1.558313628310344\n",
      "\n",
      "\n",
      "\n",
      "==============================\n"
     ]
    }
   ],
   "source": [
    "print('Training ended')\n",
    "print('Saving model..')\n",
    "now = datetime.now()\n",
    "time = now.strftime(\"%Y-%m-%d\")\n",
    "savefn = target+'_DLmodel_'+sensor+time\n",
    "training_model.save(os.path.join('./saved_models/',savefn),save_format='h5')\n",
    "print('Saving ended')\n",
    "#Use model to make predictions\n",
    "print('Making predictions')\n",
    "y_train_pred = training_model.predict(X_train)\n",
    "y_val_pred = training_model.predict(X_val)\n",
    "\n",
    "#Compute R2 \n",
    "r2_train = r2_score(y_train.flatten(),y_train_pred.flatten())\n",
    "r2_val = r2_score(y_val.flatten(),y_val_pred.flatten())\n",
    "\n",
    "#Recompute to original scale\n",
    "y_train_orig = yscaler.inverse_transform(y_train)\n",
    "y_train_pred_orig = yscaler.inverse_transform(y_train_pred)\n",
    "y_val_orig = yscaler.inverse_transform(y_val)\n",
    "y_val_pred_orig = yscaler.inverse_transform(y_val_pred)\n",
    "\n",
    "#Compute RMSE\n",
    "rmse_train = np.sqrt(mean_squared_error(y_train_orig,y_train_pred_orig))\n",
    "rmse_val = np.sqrt(mean_squared_error(y_val_orig,y_val_pred_orig))\n",
    "\n",
    "#Compute RPD = std(reference data) / RMSE\n",
    "rpd_train = np.std(y_train_orig)/rmse_train\n",
    "rpd_val = np.std(y_val_orig)/rmse_val\n",
    "\n",
    "#Print metrics\n",
    "print(\"\\n\\n\\n==============================\")\n",
    "print(\"\\n\\n\\n Evaluation metrics\")\n",
    "print(\"\\n\\nR2 train: \",r2_train)\n",
    "print(\"RMSE train: \",rmse_train)\n",
    "print(\"RPD train: \",rpd_train)\n",
    "print(\"R2 val: \",r2_val)\n",
    "print(\"RMSE val: \",rmse_val)\n",
    "print(\"RPD val: \",rpd_val)\n",
    "print(\"\\n\\n\\n==============================\")"
   ]
  },
  {
   "cell_type": "markdown",
   "metadata": {},
   "source": [
    "## Export predictions"
   ]
  },
  {
   "cell_type": "code",
   "execution_count": 1517,
   "metadata": {},
   "outputs": [],
   "source": [
    "#Calibration\n",
    "exports_cal = {'Genotype':train_metadata[\"Record Name\"], 'Species':train_metadata[\"Species2\"],'ytrain':y_train_orig.flatten(),'ytrain_pred':y_train_pred_orig.flatten()}\n",
    "exports_cal = pd.DataFrame(exports_cal)\n",
    "filename_cal = target+'_cal_cnn_'+sensor+'_'+time+'_.xlsx'\n",
    "exports_cal.to_excel(os.path.join('./results/{}'.format(sensor),filename_cal),index=False)\n",
    "\n",
    "#Validation\n",
    "exports_val = {'Genotype':test_meta[\"Record Name\"],'Species':test_meta[\"Species2\"],'yval':y_val_orig.flatten(),'yval_pred':y_val_pred_orig.flatten()}\n",
    "exports_val = pd.DataFrame(exports_val)\n",
    "filename_val = target+'_val_cnn_'+sensor+'_'+time+'_.xlsx'\n",
    "exports_val.to_excel(os.path.join('./results/{}'.format(sensor),filename_val),index=False)"
   ]
  },
  {
   "cell_type": "code",
   "execution_count": 1518,
   "metadata": {},
   "outputs": [
    {
     "data": {
      "text/html": [
       "<div>\n",
       "<style scoped>\n",
       "    .dataframe tbody tr th:only-of-type {\n",
       "        vertical-align: middle;\n",
       "    }\n",
       "\n",
       "    .dataframe tbody tr th {\n",
       "        vertical-align: top;\n",
       "    }\n",
       "\n",
       "    .dataframe thead th {\n",
       "        text-align: right;\n",
       "    }\n",
       "</style>\n",
       "<table border=\"1\" class=\"dataframe\">\n",
       "  <thead>\n",
       "    <tr style=\"text-align: right;\">\n",
       "      <th></th>\n",
       "      <th>Genotype</th>\n",
       "      <th>ytrain</th>\n",
       "      <th>ytrain_pred</th>\n",
       "    </tr>\n",
       "  </thead>\n",
       "  <tbody>\n",
       "    <tr>\n",
       "      <th>2055</th>\n",
       "      <td>19LF-R-SG-MC-95</td>\n",
       "      <td>15.58</td>\n",
       "      <td>15.619668</td>\n",
       "    </tr>\n",
       "    <tr>\n",
       "      <th>2056</th>\n",
       "      <td>19LF-R-SG-MC-95</td>\n",
       "      <td>15.58</td>\n",
       "      <td>16.026358</td>\n",
       "    </tr>\n",
       "    <tr>\n",
       "      <th>2057</th>\n",
       "      <td>19LF-R-SG-MC-95</td>\n",
       "      <td>15.58</td>\n",
       "      <td>16.343649</td>\n",
       "    </tr>\n",
       "    <tr>\n",
       "      <th>2058</th>\n",
       "      <td>19LF-R-SG-MC-95</td>\n",
       "      <td>15.58</td>\n",
       "      <td>14.635710</td>\n",
       "    </tr>\n",
       "    <tr>\n",
       "      <th>2059</th>\n",
       "      <td>19LF-R-SG-MC-95</td>\n",
       "      <td>15.58</td>\n",
       "      <td>15.331110</td>\n",
       "    </tr>\n",
       "  </tbody>\n",
       "</table>\n",
       "</div>"
      ],
      "text/plain": [
       "             Genotype  ytrain  ytrain_pred\n",
       "2055  19LF-R-SG-MC-95   15.58    15.619668\n",
       "2056  19LF-R-SG-MC-95   15.58    16.026358\n",
       "2057  19LF-R-SG-MC-95   15.58    16.343649\n",
       "2058  19LF-R-SG-MC-95   15.58    14.635710\n",
       "2059  19LF-R-SG-MC-95   15.58    15.331110"
      ]
     },
     "execution_count": 1518,
     "metadata": {},
     "output_type": "execute_result"
    }
   ],
   "source": [
    "exports_cal.tail()"
   ]
  },
  {
   "cell_type": "code",
   "execution_count": 1519,
   "metadata": {},
   "outputs": [
    {
     "data": {
      "text/plain": [
       "<matplotlib.axes._subplots.AxesSubplot at 0x1b350d17dc0>"
      ]
     },
     "execution_count": 1519,
     "metadata": {},
     "output_type": "execute_result"
    },
    {
     "data": {
      "image/png": "[encoded data removed]",
      "text/plain": [
       "<Figure size 432x288 with 1 Axes>"
      ]
     },
     "metadata": {},
     "output_type": "display_data"
    }
   ],
   "source": [
    "import seaborn as sns\n",
    "sns.set_theme()\n",
    "#Calibration\n",
    "sns.regplot(x='yval', y='yval_pred', data=exports_val)"
   ]
  },
  {
   "cell_type": "code",
   "execution_count": null,
   "metadata": {},
   "outputs": [],
   "source": []
  }
 ],
 "metadata": {
  "accelerator": "GPU",
  "colab": {
   "collapsed_sections": [],
   "name": "NirsDLModel.ipynb",
   "provenance": []
  },
  "kernelspec": {
   "display_name": "Python 3 (ipykernel)",
   "language": "python",
   "name": "python3"
  },
  "language_info": {
   "codemirror_mode": {
    "name": "ipython",
    "version": 3
   },
   "file_extension": ".py",
   "mimetype": "text/x-python",
   "name": "python",
   "nbconvert_exporter": "python",
   "pygments_lexer": "ipython3",
   "version": "3.8.2"
  }
 },
 "nbformat": 4,
 "nbformat_minor": 1
}
